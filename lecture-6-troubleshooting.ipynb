{
 "cells": [
  {
   "cell_type": "code",
   "execution_count": 1,
   "metadata": {
    "colab": {
     "base_uri": "https://localhost:8080/",
     "height": 447
    },
    "colab_type": "code",
    "id": "M1yZHLabaAP6",
    "outputId": "6f3af1e9-63c5-49c7-92cd-b738e4dc7f91"
   },
   "outputs": [
    {
     "name": "stdout",
     "output_type": "stream",
     "text": [
      "Collecting seaborn\n",
      "\u001b[?25l  Downloading https://files.pythonhosted.org/packages/a8/76/220ba4420459d9c4c9c9587c6ce607bf56c25b3d3d2de62056efe482dadc/seaborn-0.9.0-py3-none-any.whl (208kB)\n",
      "\u001b[K    100% |████████████████████████████████| 215kB 4.4MB/s \n",
      "\u001b[?25hRequirement already satisfied, skipping upgrade: scipy>=0.14.0 in /usr/local/lib/python3.6/dist-packages (from seaborn) (1.1.0)\n",
      "Requirement already satisfied, skipping upgrade: pandas>=0.15.2 in /usr/local/lib/python3.6/dist-packages (from seaborn) (0.22.0)\n",
      "Requirement already satisfied, skipping upgrade: numpy>=1.9.3 in /usr/local/lib/python3.6/dist-packages (from seaborn) (1.14.6)\n",
      "Requirement already satisfied, skipping upgrade: matplotlib>=1.4.3 in /usr/local/lib/python3.6/dist-packages (from seaborn) (3.0.2)\n",
      "Requirement already satisfied, skipping upgrade: python-dateutil>=2 in /usr/local/lib/python3.6/dist-packages (from pandas>=0.15.2->seaborn) (2.5.3)\n",
      "Requirement already satisfied, skipping upgrade: pytz>=2011k in /usr/local/lib/python3.6/dist-packages (from pandas>=0.15.2->seaborn) (2018.9)\n",
      "Requirement already satisfied, skipping upgrade: kiwisolver>=1.0.1 in /usr/local/lib/python3.6/dist-packages (from matplotlib>=1.4.3->seaborn) (1.0.1)\n",
      "Requirement already satisfied, skipping upgrade: pyparsing!=2.0.4,!=2.1.2,!=2.1.6,>=2.0.1 in /usr/local/lib/python3.6/dist-packages (from matplotlib>=1.4.3->seaborn) (2.3.1)\n",
      "Requirement already satisfied, skipping upgrade: cycler>=0.10 in /usr/local/lib/python3.6/dist-packages (from matplotlib>=1.4.3->seaborn) (0.10.0)\n",
      "Requirement already satisfied, skipping upgrade: six>=1.5 in /usr/local/lib/python3.6/dist-packages (from python-dateutil>=2->pandas>=0.15.2->seaborn) (1.11.0)\n",
      "Requirement already satisfied, skipping upgrade: setuptools in /usr/local/lib/python3.6/dist-packages (from kiwisolver>=1.0.1->matplotlib>=1.4.3->seaborn) (40.6.3)\n",
      "Installing collected packages: seaborn\n",
      "  Found existing installation: seaborn 0.7.1\n",
      "    Uninstalling seaborn-0.7.1:\n",
      "      Successfully uninstalled seaborn-0.7.1\n",
      "Successfully installed seaborn-0.9.0\n",
      "\u001b[0;31;1mWARNING: The following packages were previously imported in this runtime:\n",
      "  [seaborn]\n",
      "You must restart the runtime in order to use newly installed versions.\u001b[0m\n"
     ]
    }
   ],
   "source": [
    "!pip install seaborn --upgrade"
   ]
  },
  {
   "cell_type": "markdown",
   "metadata": {
    "colab_type": "text",
    "id": "rvv0a3x1aAP_"
   },
   "source": [
    "# Lecture 6: Euler's method\n",
    "\n",
    "[Euler's method](https://en.wikipedia.org/wiki/Euler_method) for solving differential equations works by discretizing time and incrementing the function step by step. Assuming that we have a differential equation of the form\n",
    "\n",
    "$$ \\frac{d x}{d t} = f(x, t)\\, $$\n",
    "\n",
    "we can integrate this numerically with Euler's method by breaking time into small segments $\\Delta t$ and iteratively computing\n",
    "\n",
    "$$ x(t + \\Delta t) = x(t) + \\Delta t \\times f(x, t) + \\mathcal{O}\\left(\\Delta t\\right)^2\\,.$$\n",
    "\n",
    "**Exercise**: Let's write a function to numerically integrate a differential equation using Euler's method."
   ]
  },
  {
   "cell_type": "code",
   "execution_count": 3,
   "metadata": {
    "colab": {},
    "colab_type": "code",
    "id": "9frtwDA5aAQA"
   },
   "outputs": [],
   "source": [
    "import numpy as np\n",
    "import seaborn as sns\n",
    "import matplotlib.pyplot as plt\n",
    "\n",
    "# Define the integration function using Euler's method below\n",
    "\n",
    "def integrate(f, x0, a, b, n_steps):\n",
    "  \n",
    "    dt = (b - a)/n_steps\n",
    "\n",
    "    # Check to make sure dt is what we expect\n",
    "    # NOTE: for more info on string formatting, see: https://pyformat.info/\n",
    "    print('The time step is {}'.format(dt))\n",
    "    \n",
    "    times  = np.arange(a, b+dt, dt)\n",
    "    x_vals = []\n",
    "    \n",
    "    # Are the time and x values what we anticipated?\n",
    "    print('The time values are {}'.format(times))\n",
    "    print('Current x values are {}'.format(x_vals))\n",
    "  \n",
    "    x = x0\n",
    "  \n",
    "    for t in times:\n",
    "        x_vals.append(x)\n",
    "        x = x + (dt * f(x, t))\n",
    "        \n",
    "        # Check to see how x has updated, and x values\n",
    "        print('At t={} we found x={}'.format(t, x))\n",
    "        print('Current x values are {}'.format(x_vals))\n",
    "\n",
    "    # Check the final values before we return them\n",
    "    print('') # This just prints a blank line, which can help spacing\n",
    "    print('The final time values are {}'.format(times))\n",
    "    print('The final x values are {}'.format(x_vals))\n",
    "    \n",
    "    return x_vals, times"
   ]
  },
  {
   "cell_type": "code",
   "execution_count": 7,
   "metadata": {
    "colab": {
     "base_uri": "https://localhost:8080/",
     "height": 174
    },
    "colab_type": "code",
    "id": "VfS42z8liXab",
    "outputId": "62d6b516-d92a-484f-cb07-92eb5b57e9c4"
   },
   "outputs": [
    {
     "ename": "TypeError",
     "evalue": "ignored",
     "output_type": "error",
     "traceback": [
      "\u001b[0;31m---------------------------------------------------------------------------\u001b[0m",
      "\u001b[0;31mTypeError\u001b[0m                                 Traceback (most recent call last)",
      "\u001b[0;32m<ipython-input-7-79248eb642d0>\u001b[0m in \u001b[0;36m<module>\u001b[0;34m()\u001b[0m\n\u001b[0;32m----> 1\u001b[0;31m \u001b[0mnp\u001b[0m\u001b[0;34m.\u001b[0m\u001b[0mcos\u001b[0m\u001b[0;34m(\u001b[0m\u001b[0;36m0\u001b[0m\u001b[0;34m,\u001b[0m \u001b[0;36m1\u001b[0m\u001b[0;34m)\u001b[0m\u001b[0;34m\u001b[0m\u001b[0;34m\u001b[0m\u001b[0m\n\u001b[0m",
      "\u001b[0;31mTypeError\u001b[0m: return arrays must be of ArrayType"
     ]
    }
   ],
   "source": [
    "np.cos(0, 1)"
   ]
  },
  {
   "cell_type": "code",
   "execution_count": 5,
   "metadata": {
    "colab": {
     "base_uri": "https://localhost:8080/",
     "height": 54
    },
    "colab_type": "code",
    "id": "FVvMxwwFaAQC",
    "outputId": "c10af313-61ff-416b-b4c9-80da712b5ff0"
   },
   "outputs": [
    {
     "name": "stdout",
     "output_type": "stream",
     "text": [
      "The time step is 1.0\n",
      "The time values are [ 0.  1.  2.  3.  4.  5.  6.  7.  8.  9. 10.]\n",
      "Current x values are []\n",
      "At t=0.0 we found x=2.0\n",
      "Current x values are [1]\n",
      "At t=1.0 we found x=4.0\n",
      "Current x values are [1, 2.0]\n",
      "At t=2.0 we found x=8.0\n",
      "Current x values are [1, 2.0, 4.0]\n",
      "At t=3.0 we found x=16.0\n",
      "Current x values are [1, 2.0, 4.0, 8.0]\n",
      "At t=4.0 we found x=32.0\n",
      "Current x values are [1, 2.0, 4.0, 8.0, 16.0]\n",
      "At t=5.0 we found x=64.0\n",
      "Current x values are [1, 2.0, 4.0, 8.0, 16.0, 32.0]\n",
      "At t=6.0 we found x=128.0\n",
      "Current x values are [1, 2.0, 4.0, 8.0, 16.0, 32.0, 64.0]\n",
      "At t=7.0 we found x=256.0\n",
      "Current x values are [1, 2.0, 4.0, 8.0, 16.0, 32.0, 64.0, 128.0]\n",
      "At t=8.0 we found x=512.0\n",
      "Current x values are [1, 2.0, 4.0, 8.0, 16.0, 32.0, 64.0, 128.0, 256.0]\n",
      "At t=9.0 we found x=1024.0\n",
      "Current x values are [1, 2.0, 4.0, 8.0, 16.0, 32.0, 64.0, 128.0, 256.0, 512.0]\n",
      "At t=10.0 we found x=2048.0\n",
      "Current x values are [1, 2.0, 4.0, 8.0, 16.0, 32.0, 64.0, 128.0, 256.0, 512.0, 1024.0]\n",
      "\n",
      "The final time values are [ 0.  1.  2.  3.  4.  5.  6.  7.  8.  9. 10.]\n",
      "The final x values are [1, 2.0, 4.0, 8.0, 16.0, 32.0, 64.0, 128.0, 256.0, 512.0, 1024.0]\n"
     ]
    },
    {
     "data": {
      "text/plain": [
       "([1, 2.0, 4.0, 8.0, 16.0, 32.0, 64.0, 128.0, 256.0, 512.0, 1024.0],\n",
       " array([ 0.,  1.,  2.,  3.,  4.,  5.,  6.,  7.,  8.,  9., 10.]))"
      ]
     },
     "execution_count": 5,
     "metadata": {},
     "output_type": "execute_result"
    }
   ],
   "source": [
    "def g(x, t):\n",
    "    return x\n",
    "\n",
    "integrate(g, 1, 0, 10, 10)"
   ]
  },
  {
   "cell_type": "markdown",
   "metadata": {
    "colab_type": "text",
    "id": "UISSczHiaAQF"
   },
   "source": [
    "### Visualizing Euler's method in a simple case\n",
    "\n",
    "Now, let's plot the result for the differential equation\n",
    "\n",
    "$$ \\frac{dx}{dt} = -x^3 + 0.1\\,.$$\n",
    "\n",
    "What do you expect the result will be if we start with $x(0) = 0$? We'll integrate from $t=0$ to $t=10$."
   ]
  },
  {
   "cell_type": "code",
   "execution_count": 13,
   "metadata": {
    "colab": {
     "base_uri": "https://localhost:8080/",
     "height": 315
    },
    "colab_type": "code",
    "id": "JaT8jlxJaAQG",
    "outputId": "5133a7f4-2163-4bbd-d4b6-f512440e99bc"
   },
   "outputs": [
    {
     "name": "stdout",
     "output_type": "stream",
     "text": [
      "0.4641588833612779\n"
     ]
    },
    {
     "data": {
      "image/png": "[encoded data removed]",
      "text/plain": [
       "<Figure size 432x288 with 1 Axes>"
      ]
     },
     "metadata": {
      "tags": []
     },
     "output_type": "display_data"
    }
   ],
   "source": [
    "# Define the function and perform the integration\n",
    "\n",
    "def g(x, t):\n",
    "    return -(x**3) + 0.1\n",
    "\n",
    "x, t = integrate(g, 0, 0, 10, 1000)\n",
    "\n",
    "print(0.1**(1/3))\n",
    "\n",
    "sns.lineplot(t, x)\n",
    "plt.xlabel(r'$t$')\n",
    "plt.ylabel(r'$x$')\n",
    "plt.title(\"Integration with Euler's method\");"
   ]
  },
  {
   "cell_type": "code",
   "execution_count": 0,
   "metadata": {
    "colab": {},
    "colab_type": "code",
    "id": "qbGoDZr1aAQJ"
   },
   "outputs": [],
   "source": [
    "\n",
    "\n",
    "\n",
    "\n",
    "\n",
    "\n",
    "\n",
    "\n",
    "\n",
    "\n",
    "\n",
    "\n",
    "\n",
    "\n",
    "\n",
    "\n",
    "\n",
    "\n",
    "\n",
    "\n",
    "\n",
    "\n"
   ]
  },
  {
   "cell_type": "markdown",
   "metadata": {
    "colab_type": "text",
    "id": "fQBUXv0_aAQM"
   },
   "source": [
    "### Unphysicial results\n",
    "\n",
    "What happens if we choose a very small number of steps? For example, we could set $n=3$. What other choices would give poor results?\n",
    "\n",
    "This is a very simple example of a phenomenon known as **[stiffness](https://en.wikipedia.org/wiki/Stiff_equation)**, which can pose a challenge for numerical differential equation solvers. We need to be especially wary when considering differential equations for multiple variables that have large differences in parameter sizes, or when some terms in the differential equation can grow very large with small shifts in the variables."
   ]
  },
  {
   "cell_type": "code",
   "execution_count": 15,
   "metadata": {
    "colab": {
     "base_uri": "https://localhost:8080/",
     "height": 297
    },
    "colab_type": "code",
    "id": "Gk6lfQjQaAQN",
    "outputId": "5f0104a0-2861-4d8b-e9e4-13a5f3b43d60"
   },
   "outputs": [
    {
     "data": {
      "image/png": "[encoded data removed]",
      "text/plain": [
       "<Figure size 432x288 with 1 Axes>"
      ]
     },
     "metadata": {
      "tags": []
     },
     "output_type": "display_data"
    }
   ],
   "source": [
    "# Try different values here -- what explains this behavior?\n",
    "\n",
    "def g(x, t):\n",
    "    return -x**3 + 0.1\n",
    "\n",
    "x, t = integrate(g, 0, 0, 10, 3)\n",
    "\n",
    "sns.lineplot(t, x)\n",
    "plt.xlabel(r'$t$')\n",
    "plt.ylabel(r'$x$')\n",
    "plt.title(\"Integration with Euler's method\");"
   ]
  },
  {
   "cell_type": "code",
   "execution_count": 16,
   "metadata": {
    "colab": {
     "base_uri": "https://localhost:8080/",
     "height": 297
    },
    "colab_type": "code",
    "id": "BvuuE_JKaAQR",
    "outputId": "cb3db60a-1332-4e71-89a1-a36050f96c46"
   },
   "outputs": [
    {
     "data": {
      "image/png": "[encoded data removed]",
      "text/plain": [
       "<Figure size 432x288 with 1 Axes>"
      ]
     },
     "metadata": {
      "tags": []
     },
     "output_type": "display_data"
    }
   ],
   "source": [
    "def g(x, t):\n",
    "    return -x**3 + 0.1\n",
    "\n",
    "x, t = integrate(g, 0, 0, 50, 10)\n",
    "\n",
    "sns.lineplot(t, x)\n",
    "plt.xlabel(r'$t$')\n",
    "plt.ylabel(r'$x$')\n",
    "plt.title(\"Integration with Euler's method\");\n",
    "\n",
    "\n",
    "\n",
    "\n",
    "\n",
    "\n",
    "\n",
    "\n",
    "\n",
    "\n",
    "\n",
    "\n",
    "\n",
    "\n",
    "\n",
    "\n",
    "\n",
    "\n",
    "\n",
    "\n",
    "\n"
   ]
  },
  {
   "cell_type": "markdown",
   "metadata": {
    "colab_type": "text",
    "id": "G1Hx-TraaAQU"
   },
   "source": [
    "### Further checks on the expected behavior\n",
    "\n",
    "Consider different starting points for the differential equations. Do these all reach the same result?"
   ]
  },
  {
   "cell_type": "code",
   "execution_count": 17,
   "metadata": {
    "colab": {
     "base_uri": "https://localhost:8080/",
     "height": 297
    },
    "colab_type": "code",
    "id": "WbAFbl1daAQV",
    "outputId": "4e0baaf4-8001-4374-ef68-74e5bad30f7b"
   },
   "outputs": [
    {
     "data": {
      "image/png": "[encoded data removed]",
      "text/plain": [
       "<Figure size 432x288 with 1 Axes>"
      ]
     },
     "metadata": {
      "tags": []
     },
     "output_type": "display_data"
    }
   ],
   "source": [
    "# Test different starting conditions here\n",
    "\n",
    "def g(x, t):\n",
    "    return -x**3 + 0.1\n",
    "\n",
    "x, t = integrate(g, 1, 0, 10, 1000)\n",
    "\n",
    "sns.lineplot(t, x)\n",
    "plt.xlabel(r'$t$')\n",
    "plt.ylabel(r'$x$')\n",
    "plt.title(\"Integration with Euler's method\");"
   ]
  },
  {
   "cell_type": "code",
   "execution_count": 0,
   "metadata": {
    "colab": {},
    "colab_type": "code",
    "id": "2VvCpq7jksSZ"
   },
   "outputs": [],
   "source": []
  }
 ],
 "metadata": {
  "colab": {
   "name": "lecture-6.ipynb",
   "provenance": [],
   "version": "0.3.2"
  },
  "kernelspec": {
   "display_name": "Python 3",
   "language": "python",
   "name": "python3"
  },
  "language_info": {
   "codemirror_mode": {
    "name": "ipython",
    "version": 3
   },
   "file_extension": ".py",
   "mimetype": "text/x-python",
   "name": "python",
   "nbconvert_exporter": "python",
   "pygments_lexer": "ipython3",
   "version": "3.7.2"
  }
 },
 "nbformat": 4,
 "nbformat_minor": 1
}
